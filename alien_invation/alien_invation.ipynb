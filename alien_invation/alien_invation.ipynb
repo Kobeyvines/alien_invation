{
 "cells": [
  {
   "cell_type": "markdown",
   "id": "0",
   "metadata": {},
   "source": [
    "We’ll set up Pygame, and then create a rocket ship thatmoves right and left and fires bullets in response to player input. "
   ]
  },
  {
   "cell_type": "markdown",
   "id": "1",
   "metadata": {},
   "source": [
    "ADDING THE SHIP IMAGE"
   ]
  },
  {
   "cell_type": "code",
   "execution_count": null,
   "id": "2",
   "metadata": {},
   "outputs": [],
   "source": []
  },
  {
   "cell_type": "markdown",
   "id": "3",
   "metadata": {},
   "source": [
    "CREATE A SETTINGS CLASS"
   ]
  },
  {
   "cell_type": "code",
   "execution_count": null,
   "id": "4",
   "metadata": {},
   "outputs": [],
   "source": [
    "class Settings:\n",
    "    \"\"\"A class to store all setting for alien invation\"\"\"\n",
    "    \n",
    "    def __init__(self):\n",
    "        \"\"\"Initialize the game settings\"\"\"\n",
    "        #Screen settings\n",
    "        self.screen_width = 1200\n",
    "        self.screen_height = 800\n",
    "        self.bg_color = (230,230,230)"
   ]
  },
  {
   "cell_type": "markdown",
   "id": "5",
   "metadata": {},
   "source": [
    "CREATING A PYGAME WINDOW AND RESPONDING TO USER INPUT"
   ]
  },
  {
   "cell_type": "code",
   "execution_count": null,
   "id": "6",
   "metadata": {},
   "outputs": [],
   "source": [
    "import sys\n",
    "\n",
    "import pygame\n",
    "\n",
    "class AlienInvasion:\n",
    "    \"\"\"\"Overall class to manage game assets and behaviour \"\"\"\n",
    "    \n",
    "    def __init__(self):\n",
    "        \"\"\"\" Initialize the game and create game resources\"\"\"\n",
    "        pygame.init()\n",
    "        self.settings = Settings()\n",
    "        \n",
    "        self.screen = pygame.display.set_mode((self.settings.screen_width,self.settings.screen_height))\n",
    "        pygame.display.set_caption(\"Alien Invation\")\n",
    "        \n",
    "        #set the background color\n",
    "        self.bg_color = (230,230,230)\n",
    "        \n",
    "        \n",
    "    def run_game(self):\n",
    "        \"\"\"start the main loop for the game\"\"\"\n",
    "        while True:\n",
    "            #watch for keyboard and mouse events\n",
    "            for event in pygame.event.get():\n",
    "                if event.type == pygame.QUIT:\n",
    "                    sys.exit()\n",
    "                    \n",
    "                    \n",
    "            #redraw the screen through each pass through the loop\n",
    "            self.screen.fill(self.settings.bg_color)\n",
    "            \n",
    "            \n",
    "            #make the most recent drawn screen visible\n",
    "            pygame.display.flip()\n",
    "            \n",
    "if __name__ == '__main__':\n",
    "    #make a game instance and run the game.\n",
    "    ai = AlienInvasion()\n",
    "    ai.run_game()"
   ]
  }
 ],
 "metadata": {
  "kernelspec": {
   "display_name": "kaggle_spotify_dataset",
   "language": "python",
   "name": "python3"
  },
  "language_info": {
   "codemirror_mode": {
    "name": "ipython",
    "version": 3
   },
   "file_extension": ".py",
   "mimetype": "text/x-python",
   "name": "python",
   "nbconvert_exporter": "python",
   "pygments_lexer": "ipython3",
   "version": "3.11.13"
  }
 },
 "nbformat": 4,
 "nbformat_minor": 5
}
