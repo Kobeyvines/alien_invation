{
 "cells": [
  {
   "cell_type": "markdown",
   "id": "0",
   "metadata": {},
   "source": [
    "ADDING THE SHIP IMAGE"
   ]
  },
  {
   "cell_type": "markdown",
   "id": "1",
   "metadata": {},
   "source": [
    "Drawing the ship to the screen: for this we update the AlienInvation class"
   ]
  },
  {
   "cell_type": "markdown",
   "id": "2",
   "metadata": {},
   "source": [
    "Creating the ship class"
   ]
  },
  {
   "cell_type": "code",
   "execution_count": null,
   "id": "3",
   "metadata": {},
   "outputs": [],
   "source": [
    "import pygame\n",
    "\n",
    "class Ship:\n",
    "        \"\"\"A class to manage the ship\"\"\"\n",
    "        \n",
    "        def __init__(self, ai_game):\n",
    "            \"\"\"Initialize the ship and set it's starting point.\"\"\"\n",
    "            self.screen = ai_game.screen\n",
    "            self.screen_rect = ai_game.screen.get_rect()\n",
    "            \n",
    "            #load the ship image and get its rect\n",
    "            self.image = pygame.image.load('/home/kobey/Documents/PROJECTS/alien_invation/images/ship.bmp')\n",
    "            #Scale the image to be 1/15 of the screen height\n",
    "            new_height = int(self.screen_rect.height / 15)\n",
    "            new_width = int(new_height * self.image.get_width() /  self.image.get_height())\n",
    "            self.image = pygame.transform.scale(self.image, (new_width, new_height))\n",
    "            self.rect = self.image.get_rect()\n",
    "            \n",
    "            #start each new ship at the bottom center of the screen\n",
    "            self.rect.midbottom = self.screen_rect.midbottom\n",
    "            \n",
    "        def blitme(self):\n",
    "            \"\"\"Draw the ship at it's current location\"\"\"\n",
    "            self.screen.blit(self.image, self.rect)"
   ]
  },
  {
   "cell_type": "markdown",
   "id": "4",
   "metadata": {},
   "source": [
    "CREATE A SETTINGS CLASS"
   ]
  },
  {
   "cell_type": "code",
   "execution_count": null,
   "id": "5",
   "metadata": {},
   "outputs": [],
   "source": [
    "class Settings:\n",
    "    \"\"\"A class to store all setting for alien invation\"\"\"\n",
    "    \n",
    "    def __init__(self):\n",
    "        \"\"\"Initialize the game settings\"\"\"\n",
    "        #Screen settings\n",
    "        self.screen_width = 1200\n",
    "        self.screen_height = 800\n",
    "        self.bg_color = (230,230,230)"
   ]
  },
  {
   "cell_type": "markdown",
   "id": "6",
   "metadata": {},
   "source": [
    "CREATING A PYGAME WINDOW AND RESPONDING TO USER INPUT"
   ]
  },
  {
   "cell_type": "code",
   "execution_count": null,
   "id": "7",
   "metadata": {},
   "outputs": [],
   "source": [
    "import sys\n",
    "\n",
    "import pygame\n",
    "\n",
    "class AlienInvasion:\n",
    "    \"\"\"\"Overall class to manage game assets and behaviour \"\"\"\n",
    "    \n",
    "    def __init__(self):\n",
    "        \"\"\"\" Initialize the game and create game resources\"\"\"\n",
    "        pygame.init()\n",
    "        self.settings = Settings()\n",
    "        \n",
    "        self.screen = pygame.display.set_mode((self.settings.screen_width,self.settings.screen_height))\n",
    "        pygame.display.set_caption(\"Alien Invation\")\n",
    "        \n",
    "        self.ship = Ship(self)\n",
    "        \n",
    "        #set the background color\n",
    "        self.bg_color = (230,230,230)\n",
    "        \n",
    "        \n",
    "    def run_game(self):\n",
    "        \"\"\"start the main loop for the game\"\"\"\n",
    "        while True:\n",
    "            #watch for keyboard and mouse events\n",
    "            for event in pygame.event.get():\n",
    "                if event.type == pygame.QUIT:\n",
    "                    sys.exit()\n",
    "                    \n",
    "                    \n",
    "            #redraw the screen through each pass through the loop\n",
    "            self.screen.fill(self.settings.bg_color)\n",
    "            self.ship.blitme()\n",
    "            \n",
    "            #make the most recent drawn screen visible\n",
    "            pygame.display.flip()\n",
    "            \n",
    "if __name__ == '__main__':\n",
    "    #make a game instance and run the game.\n",
    "    ai = AlienInvasion()\n",
    "    ai.run_game()"
   ]
  },
  {
   "cell_type": "markdown",
   "id": "8",
   "metadata": {},
   "source": [
    "We’ll set up Pygame, and then create a rocket ship thatmoves right and left and fires bullets in response to player input. "
   ]
  }
 ],
 "metadata": {
  "kernelspec": {
   "display_name": "kaggle_spotify_dataset",
   "language": "python",
   "name": "python3"
  },
  "language_info": {
   "codemirror_mode": {
    "name": "ipython",
    "version": 3
   },
   "file_extension": ".py",
   "mimetype": "text/x-python",
   "name": "python",
   "nbconvert_exporter": "python",
   "pygments_lexer": "ipython3",
   "version": "3.11.13"
  }
 },
 "nbformat": 4,
 "nbformat_minor": 5
}
